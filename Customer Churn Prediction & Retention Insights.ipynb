{
 "cells": [
  {
   "cell_type": "code",
   "execution_count": 1,
   "id": "536140a7-83a4-48bc-bbfe-a0bdd5a5dea1",
   "metadata": {},
   "outputs": [
    {
     "name": "stdout",
     "output_type": "stream",
     "text": [
      "Logistic Regression Accuracy: 1.0\n",
      "Random Forest Accuracy: 0.0\n"
     ]
    }
   ],
   "source": [
    "import pandas as pd\n",
    "from sklearn.model_selection import train_test_split\n",
    "from sklearn.linear_model import LogisticRegression\n",
    "from sklearn.ensemble import RandomForestClassifier\n",
    "from sklearn.metrics import accuracy_score\n",
    "\n",
   
    "data = {\n",
    "    \"Tenure\":[12, 24, 6, 36, 5, 48, 10, 20],\n",
    "    \"Age\":[25, 40, 22, 35, 28, 50, 30, 45],\n",
    "    \"MonthlyCharges\":[500, 1200, 300, 1500, 400, 1800, 600, 1100],\n",
    "    \"Complaints\":[0,1,0,0,1,1,0,1],\n",
    "    \"Churn\":[0,0,1,0,1,0,0,1]\n",
    "}\n",
    "df = pd.DataFrame(data)\n",
    "df.to_csv(\"customer_churn.csv\", index=False)\n",
    "\n",
    "# Features & target\n",
    "X = df.drop(\"Churn\", axis=1)\n",
    "y = df[\"Churn\"]\n",
    "\n",
    "# Train-test split\n",
    "X_train, X_test, y_train, y_test = train_test_split(X, y, test_size=0.2, random_state=42)\n",
    "\n",
    "# Logistic Regression\n",
    "log_model = LogisticRegression(max_iter=500)\n",
    "log_model.fit(X_train, y_train)\n",
    "print(\"Logistic Regression Accuracy:\", accuracy_score(y_test, log_model.predict(X_test)))\n",
    "\n",
    "# Random Forest\n",
    "rf = RandomForestClassifier(n_estimators=100, random_state=42)\n",
    "rf.fit(X_train, y_train)\n",
    "print(\"Random Forest Accuracy:\", accuracy_score(y_test, rf.predict(X_test)))"
   ]
  },
  {
   "cell_type": "code",
   "execution_count": null,
   "id": "46868edb-006f-4618-a609-372fa7c2fab9",
   "metadata": {},
   "outputs": [],
   "source": []
  }
 ],
 "metadata": {
  "kernelspec": {
   "display_name": "Python [conda env:base] *",
   "language": "python",
   "name": "conda-base-py"
  },
  "language_info": {
   "codemirror_mode": {
    "name": "ipython",
    "version": 3
   },
   "file_extension": ".py",
   "mimetype": "text/x-python",
   "name": "python",
   "nbconvert_exporter": "python",
   "pygments_lexer": "ipython3",
   "version": "3.13.5"
  }
 },
 "nbformat": 4,
 "nbformat_minor": 5
}
